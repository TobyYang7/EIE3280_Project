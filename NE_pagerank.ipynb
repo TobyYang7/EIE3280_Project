{
 "cells": [
  {
   "cell_type": "code",
   "execution_count": 10,
   "metadata": {},
   "outputs": [
    {
     "data": {
      "text/plain": [
       "('adjust_link_quality',\n",
       " array([0.13436854, 0.28490779, 0.36563146, 0.21509221]))"
      ]
     },
     "execution_count": 10,
     "metadata": {},
     "output_type": "execute_result"
    }
   ],
   "source": [
    "import numpy as np\n",
    "\n",
    "\n",
    "def compute_pagerank(G, alpha=0.85, q=None, max_iter=100, tol=1.0e-6):\n",
    "    \"\"\"\n",
    "    Compute the PageRank of each node in the graph G using the power method.\n",
    "\n",
    "    :param G: 2D numpy array representing the adjacency matrix of the graph\n",
    "    :param alpha: Damping factor for the random walk\n",
    "    :param q: Probability distribution for random jumps (uniform by default)\n",
    "    :param max_iter: Maximum number of iterations for the power method\n",
    "    :param tol: Tolerance for convergence\n",
    "    :return: 1D numpy array containing the PageRank of each node\n",
    "    \"\"\"\n",
    "    n = G.shape[0]  # Number of nodes\n",
    "\n",
    "    # If q is not provided, use a uniform distribution\n",
    "    if q is None:\n",
    "        q = np.ones(n) / n\n",
    "\n",
    "    # Initialize PageRank vector\n",
    "    p = np.ones(n) / n\n",
    "\n",
    "    # Normalize rows of G to represent probabilities\n",
    "    row_sums = G.sum(axis=1)\n",
    "    G_normalized = G / row_sums[:, np.newaxis]\n",
    "\n",
    "    for _ in range(max_iter):\n",
    "        p_new = alpha * G_normalized.T.dot(p) + (1 - alpha) * q\n",
    "\n",
    "        # Check convergence\n",
    "        if np.linalg.norm(p_new - p, ord=1) <= tol:\n",
    "            break\n",
    "\n",
    "        p = p_new\n",
    "\n",
    "    return p\n",
    "\n",
    "\n",
    "def simulate_advanced_pagerank_scenarios():\n",
    "    \"\"\"\n",
    "    Simulate different PageRank scenarios based on strategies like link addition/removal, link quality adjustment, and keyword adjustment.\n",
    "\n",
    "    :return: Best strategy and its PageRank vector\n",
    "    \"\"\"\n",
    "    # Example graphs for different strategies (simplified)\n",
    "    strategy_graphs = {\n",
    "        \"add_links\": np.array([[0, 1, 1, 0], [1, 0, 1, 1], [1, 1, 0, 1], [0, 1, 1, 0]], dtype=float),\n",
    "        \"remove_links\": np.array([[0, 1, 0, 0], [1, 0, 0, 0], [0, 0, 0, 1], [0, 0, 1, 0]], dtype=float),\n",
    "        \"adjust_link_quality\": np.array([[0, 2, 0, 0], [2, 0, 3, 0], [0, 3, 0, 4], [0, 0, 4, 0]], dtype=float),\n",
    "        \"adjust_keywords\": np.array([[0, 1, 2, 0], [1, 0, 0, 3], [2, 0, 0, 1], [0, 3, 1, 0]], dtype=float)\n",
    "    }\n",
    "\n",
    "    # Compute PageRank for each strategy\n",
    "    strategy_pageranks = {strategy: compute_pagerank(\n",
    "        graph) for strategy, graph in strategy_graphs.items()}\n",
    "\n",
    "    # Find the best strategy\n",
    "    best_strategy = max(strategy_pageranks,\n",
    "                        key=lambda s: np.max(strategy_pageranks[s]))\n",
    "\n",
    "    return best_strategy, strategy_pageranks[best_strategy]\n",
    "\n",
    "\n",
    "# Run the simulation\n",
    "best_strategy, best_pagerank = simulate_advanced_pagerank_scenarios()\n",
    "best_strategy, best_pagerank"
   ]
  },
  {
   "cell_type": "code",
   "execution_count": 11,
   "metadata": {},
   "outputs": [
    {
     "data": {
      "text/plain": [
       "(None, 1.0)"
      ]
     },
     "execution_count": 11,
     "metadata": {},
     "output_type": "execute_result"
    }
   ],
   "source": [
    "from scipy.optimize import linprog\n",
    "\n",
    "\n",
    "def megiddo_method(weights, max_iter=100, tol=1e-6):\n",
    "    \"\"\"\n",
    "    Apply Megiddo's method for a simplified fractional PageRank optimization problem.\n",
    "\n",
    "    :param weights: Weights for each vertex representing its importance\n",
    "    :param max_iter: Maximum number of iterations\n",
    "    :param tol: Tolerance for convergence\n",
    "    :return: Approximate solution to the fractional programming problem\n",
    "    \"\"\"\n",
    "    n = len(weights)\n",
    "    delta = 1.0  # Initial delta\n",
    "    solution = None\n",
    "\n",
    "    for _ in range(max_iter):\n",
    "        # Linear constraints for the parameterized problem\n",
    "        A = [weights - delta * np.ones(n), -np.ones(n)]\n",
    "        b = [0, -1]\n",
    "\n",
    "        # Linear objective function\n",
    "        c = -np.ones(n)\n",
    "\n",
    "        # Solve the parameterized linear problem\n",
    "        res = linprog(c, A_ub=A, b_ub=b, bounds=(0, None))\n",
    "\n",
    "        if res.success:\n",
    "            delta = sum(weights * res.x) / sum(res.x)\n",
    "            solution = res.x\n",
    "        else:\n",
    "            break\n",
    "\n",
    "        # Check convergence\n",
    "        if res.fun > -tol:\n",
    "            break\n",
    "\n",
    "    return solution, delta\n",
    "\n",
    "\n",
    "# Example weights representing the importance of each vertex\n",
    "weights = np.array([1.5, 2.0, 0.5, 1.0])\n",
    "\n",
    "# Apply Megiddo's method\n",
    "pagerank_solution, optimal_delta = megiddo_method(weights)\n",
    "pagerank_solution, optimal_delta"
   ]
  },
  {
   "cell_type": "code",
   "execution_count": 12,
   "metadata": {},
   "outputs": [
    {
     "name": "stderr",
     "output_type": "stream",
     "text": [
      "/var/folders/q8/h2vz6sj57rj02qh11jbnrysh0000gn/T/ipykernel_14458/4232707505.py:11: RuntimeWarning: invalid value encountered in divide\n",
      "  A = A / A.sum(axis=0)\n"
     ]
    },
    {
     "data": {
      "text/plain": [
       "({1: 0.28405589394482267,\n",
       "  2: 0.20852740953063417,\n",
       "  3: 0.20852740953063417,\n",
       "  4: 0.20852740953063417,\n",
       "  5: 0.09036187746327481},\n",
       " True)"
      ]
     },
     "execution_count": 12,
     "metadata": {},
     "output_type": "execute_result"
    }
   ],
   "source": [
    "import networkx as nx\n",
    "import numpy as np\n",
    "\n",
    "\n",
    "def compute_pagerank(G, alpha=0.85):\n",
    "    \"\"\"\n",
    "    Compute the PageRank of each node in the graph G using the power iteration method.\n",
    "    \"\"\"\n",
    "    N = len(G)\n",
    "    A = nx.to_numpy_array(G)\n",
    "    A = A / A.sum(axis=0)\n",
    "    v = np.random.rand(N, 1)\n",
    "    v = v / v.sum()\n",
    "\n",
    "    for _ in range(100):\n",
    "        v = alpha * A @ v + (1 - alpha) / N\n",
    "\n",
    "    return {n: v[i][0] for i, n in enumerate(G.nodes())}\n",
    "\n",
    "\n",
    "def is_nash_equilibrium(G, alpha=0.85):\n",
    "    \"\"\"\n",
    "    Check if the current state of graph G is a Nash Equilibrium.\n",
    "    \"\"\"\n",
    "    original_pageranks = compute_pagerank(G, alpha)\n",
    "\n",
    "    for node in G.nodes():\n",
    "        for neighbor in list(G.neighbors(node)):\n",
    "            # Remove an edge and compute new PageRank\n",
    "            G.remove_edge(node, neighbor)\n",
    "            new_pageranks = compute_pagerank(G, alpha)\n",
    "\n",
    "            # If the PageRank of the node increases by removing an edge, it's not a NE\n",
    "            if new_pageranks[node] > original_pageranks[node]:\n",
    "                G.add_edge(node, neighbor)  # restore the edge\n",
    "                return False\n",
    "\n",
    "            G.add_edge(node, neighbor)  # restore the edge\n",
    "\n",
    "    return True\n",
    "\n",
    "\n",
    "# Create a simple undirected graph\n",
    "G = nx.Graph()\n",
    "# G.add_edges_from([(1, 2), (2, 3), (3, 4), (4, 1), (1, 3)])\n",
    "G.add_edges_from([(1, 2), (1, 3), (1, 4), (1, 5), (2, 1), (2, 3), (2, 4), (3, 1), (3, 4), (4, 1), (4, 3), (5, 1)])\n",
    "# Compute PageRank and check Nash Equilibrium\n",
    "pagerank_values = compute_pagerank(G)\n",
    "is_ne = is_nash_equilibrium(G)\n",
    "\n",
    "pagerank_values, is_ne"
   ]
  }
 ],
 "metadata": {
  "kernelspec": {
   "display_name": "base",
   "language": "python",
   "name": "python3"
  },
  "language_info": {
   "codemirror_mode": {
    "name": "ipython",
    "version": 3
   },
   "file_extension": ".py",
   "mimetype": "text/x-python",
   "name": "python",
   "nbconvert_exporter": "python",
   "pygments_lexer": "ipython3",
   "version": "3.10.9"
  }
 },
 "nbformat": 4,
 "nbformat_minor": 2
}
